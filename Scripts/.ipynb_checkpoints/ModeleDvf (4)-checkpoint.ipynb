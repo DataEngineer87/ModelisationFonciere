{
 "cells": [
  {
   "cell_type": "markdown",
   "id": "ce1aeef3",
   "metadata": {},
   "source": [
    "# Estimation du Prix d'un Bien Immobilier "
   ]
  },
  {
   "cell_type": "markdown",
   "id": "KfHJhZj10y5v",
   "metadata": {
    "id": "KfHJhZj10y5v"
   },
   "source": [
    "# Alseny\n",
    "### Data Scientist / Machine Learning Engineer"
   ]
  },
  {
   "cell_type": "markdown",
   "id": "5268d471-499b-4986-b1ce-ebf28243f64f",
   "metadata": {
    "id": "5268d471-499b-4986-b1ce-ebf28243f64f"
   },
   "source": [
    "### Pipeline complet de data science appliqué à ce projet\n",
    "\n",
    "1- Introduction.\n",
    "\n",
    "2- Compréhension du besoin.\n",
    "\n",
    "3- Récupération des données.\n",
    "\n",
    "4- Pré-nettoyage.\n",
    "\n",
    "5- Exploration (exploratory data analysis - EDA).\n",
    "\n",
    "6- Nettoyage.\n",
    "\n",
    "7- Data visualisation.\n",
    "\n",
    "8-Encodage des variables catégorielles.\n",
    "\n",
    "9- Sauvegarde des données prétraitées pour la phase de modélisation.\n",
    "\n",
    "10- Modélisation.\n",
    "\n",
    "11- Mise en place d’une application web interactive avec Streamlit pour l’exploration et la prédiction des prix immobiliers à partir des données DVF."
   ]
  },
  {
   "cell_type": "markdown",
   "id": "15d883ca",
   "metadata": {},
   "source": [
    "#  10- Modélisation\n",
    "- Importation des données nettoyées\n",
    "- Initialisation des modèles\n",
    "- Procédure d'évaluation\n",
    "- Choix du modèle final\n",
    "- Affichage des variables importantes\n",
    "- Explicabilité du modèle (SHAP)\n",
    "- Analyse des résultats\n",
    "- Enregistrement du modèle au format .pkl pour une application web Streamlit"
   ]
  },
  {
   "cell_type": "markdown",
   "id": "e9a7257b-b703-4bdc-9735-2c3256170517",
   "metadata": {
    "id": "e9a7257b-b703-4bdc-9735-2c3256170517"
   },
   "source": [
    "## Importation des packages"
   ]
  },
  {
   "cell_type": "code",
   "execution_count": 1,
   "id": "e44537a7",
   "metadata": {},
   "outputs": [
    {
     "data": {
      "text/plain": [
       "34"
      ]
     },
     "execution_count": 1,
     "metadata": {},
     "output_type": "execute_result"
    }
   ],
   "source": [
    "# Ramassage des objets inutiles en mémoire\n",
    "import gc\n",
    "gc.collect()"
   ]
  },
  {
   "cell_type": "code",
   "execution_count": 2,
   "id": "4a99d3d4",
   "metadata": {},
   "outputs": [],
   "source": [
    "import numpy as np\n",
    "import seaborn as sns\n",
    "import pandas as pd\n",
    "import sklearn\n",
    "import matplotlib.pyplot as plt\n",
    "import Fonction_utils  # Importation des fonctions définies dans le fichier utils.ipynb"
   ]
  },
  {
   "cell_type": "markdown",
   "id": "abbe123d",
   "metadata": {},
   "source": [
    "## 10.1- Importation des données nettoyées"
   ]
  },
  {
   "cell_type": "markdown",
   "id": "9588f582-de08-419c-8db7-ca2dde21fcbe",
   "metadata": {
    "id": "9588f582-de08-419c-8db7-ca2dde21fcbe"
   },
   "source": [
    "##  Chargement DataSet Train et test"
   ]
  },
  {
   "cell_type": "code",
   "execution_count": 3,
   "id": "c9d0d7fd",
   "metadata": {},
   "outputs": [],
   "source": [
    "pd.set_option('display.max_rows', None)\n",
    "pd.set_option('display.max_columns',None)"
   ]
  },
  {
   "cell_type": "code",
   "execution_count": 4,
   "id": "b3af7343",
   "metadata": {},
   "outputs": [
    {
     "name": "stdout",
     "output_type": "stream",
     "text": [
      "(2139495, 15)\n",
      "<class 'pandas.core.frame.DataFrame'>\n",
      "Index: 2139495 entries, 1793421 to 2914311\n",
      "Data columns (total 15 columns):\n",
      " #   Column                                       Dtype  \n",
      "---  ------                                       -----  \n",
      " 0   Surface_terrain                              float64\n",
      " 1   Surface_reelle_bati                          float64\n",
      " 2   Nombre_pieces_principales                    float64\n",
      " 3   annee_mutation                               int64  \n",
      " 4   mois_mutation                                int64  \n",
      " 5   Valeur_fonciere                              float64\n",
      " 6   code_postal_encoded                          float64\n",
      " 7   Nature_mutation_Adjudication                 int64  \n",
      " 8   Nature_mutation_Echange                      int64  \n",
      " 9   Nature_mutation_Expropriation                int64  \n",
      " 10  Nature_mutation_Vente                        int64  \n",
      " 11  Nature_mutation_Vente_etat_futur_achevement  int64  \n",
      " 12  Nature_mutation_Vente_terrain_a_batir        int64  \n",
      " 13  Type_local_Appartement                       int64  \n",
      " 14  Type_local_Maison                            int64  \n",
      "dtypes: float64(5), int64(10)\n",
      "memory usage: 261.2 MB\n"
     ]
    }
   ],
   "source": [
    "# Chargement des données\n",
    "df_train_cleaned = Fonction_utils.load_and_save_data(\n",
    "    file_path='/home/sacko/Documents/ProjetDVF/Données/df_train_cleaned.csv',\n",
    "#      sample=0.2,               # Charger 20 % des données\n",
    "#      random_state=42,          # Pour reproductibilité de l'échantillonnage\n",
    "     index_col=0               # Utiliser la première colonne comme index\n",
    ")\n",
    "\n",
    "print(df_train_cleaned.shape)\n",
    "df_train_cleaned.info()"
   ]
  },
  {
   "cell_type": "code",
   "execution_count": 5,
   "id": "b8a10d22",
   "metadata": {},
   "outputs": [],
   "source": [
    "# Séparation des variables explicatives et de la variable cible dans les données d'entraînement\n",
    "X_train =  df_train_cleaned.drop([\"Valeur_fonciere\"], axis = 1)\n",
    "\n",
    "y_train = df_train_cleaned[\"Valeur_fonciere\"]"
   ]
  },
  {
   "cell_type": "markdown",
   "id": "fe85c1ec",
   "metadata": {},
   "source": [
    "## Chargement DataSet test"
   ]
  },
  {
   "cell_type": "code",
   "execution_count": 6,
   "id": "3a9854dd",
   "metadata": {},
   "outputs": [
    {
     "name": "stdout",
     "output_type": "stream",
     "text": [
      "(536973, 15)\n",
      "<class 'pandas.core.frame.DataFrame'>\n",
      "Index: 536973 entries, 3515754 to 16941\n",
      "Data columns (total 15 columns):\n",
      " #   Column                                       Non-Null Count   Dtype  \n",
      "---  ------                                       --------------   -----  \n",
      " 0   Surface_terrain                              536973 non-null  float64\n",
      " 1   Surface_reelle_bati                          536973 non-null  float64\n",
      " 2   Nombre_pieces_principales                    536973 non-null  float64\n",
      " 3   annee_mutation                               536973 non-null  int64  \n",
      " 4   mois_mutation                                536973 non-null  int64  \n",
      " 5   Valeur_fonciere                              536973 non-null  float64\n",
      " 6   code_postal_encoded                          536973 non-null  float64\n",
      " 7   Nature_mutation_Adjudication                 536973 non-null  int64  \n",
      " 8   Nature_mutation_Echange                      536973 non-null  int64  \n",
      " 9   Nature_mutation_Expropriation                536973 non-null  int64  \n",
      " 10  Nature_mutation_Vente                        536973 non-null  int64  \n",
      " 11  Nature_mutation_Vente_etat_futur_achevement  536973 non-null  int64  \n",
      " 12  Nature_mutation_Vente_terrain_a_batir        536973 non-null  int64  \n",
      " 13  Type_local_Appartement                       536973 non-null  int64  \n",
      " 14  Type_local_Maison                            536973 non-null  int64  \n",
      "dtypes: float64(5), int64(10)\n",
      "memory usage: 65.5 MB\n"
     ]
    }
   ],
   "source": [
    "# Chargement des données\n",
    "df_test_cleaned = Fonction_utils.load_and_save_data(\n",
    "    file_path='/home/sacko/Documents/ProjetDVF/Données/df_test_cleaned.csv',\n",
    "#      sample=0.2,               # Charger 20 % des données\n",
    "#      random_state=42,          # Pour reproductibilité de l'échantillonnage\n",
    "     index_col=0               # Utiliser la première colonne comme index\n",
    ")\n",
    "\n",
    "print(df_test_cleaned.shape)\n",
    "df_test_cleaned.info()"
   ]
  },
  {
   "cell_type": "code",
   "execution_count": 8,
   "id": "ad4a61f7",
   "metadata": {},
   "outputs": [],
   "source": [
    "# Séparation des variables explicatives et de la variable cible dans les données test\n",
    "X_test =  df_test_cleaned.drop([\"Valeur_fonciere\"], axis = 1)\n",
    "\n",
    "y_test = df_test_cleaned[\"Valeur_fonciere\"]"
   ]
  },
  {
   "cell_type": "markdown",
   "id": "c96ea844",
   "metadata": {},
   "source": [
    "## 10.2- Initialisation des modèles"
   ]
  },
  {
   "cell_type": "code",
   "execution_count": 9,
   "id": "de3625bf",
   "metadata": {},
   "outputs": [],
   "source": [
    "from sklearn.ensemble import RandomForestRegressor, GradientBoostingRegressor, HistGradientBoostingRegressor\n",
    "from xgboost import XGBRegressor\n",
    "from sklearn.svm import SVR\n",
    "from sklearn.metrics import mean_absolute_error, mean_squared_error, r2_score\n",
    "import warnings\n",
    "from joblib import Parallel, delayed"
   ]
  },
  {
   "cell_type": "code",
   "execution_count": 10,
   "id": "f56aaf43",
   "metadata": {},
   "outputs": [],
   "source": [
    "# models = {\n",
    "#     \"Random Forest\": RandomForestRegressor(n_estimators=100, random_state=42, n_jobs=-1),\n",
    "#     \"XGBoost\": XGBRegressor(objective='reg:squarederror', n_estimators=100, random_state=42, n_jobs=-1),\n",
    "#     \"Hist Gradient Boosting\": HistGradientBoostingRegressor(max_iter=100, random_state=42),\n",
    "# }"
   ]
  },
  {
   "cell_type": "code",
   "execution_count": 12,
   "id": "5633b754-aec1-47cc-9f3c-18912ef78610",
   "metadata": {},
   "outputs": [],
   "source": [
    "from sklearn.feature_selection import SelectKBest, f_regression\n",
    "from sklearn.pipeline import Pipeline\n",
    "from sklearn.ensemble import RandomForestRegressor, HistGradientBoostingRegressor\n",
    "from xgboost import XGBRegressor\n",
    "\n",
    "# === Sélection de variables (5 meilleures selon ANOVA F-test) ===\n",
    "kbest = SelectKBest(score_func=f_regression, k=5)\n",
    "\n",
    "# === Modèles avec pipeline ===\n",
    "models = {\n",
    "    \"Random Forest\": Pipeline([\n",
    "        ('feature_selection', kbest),\n",
    "        ('model', RandomForestRegressor(n_estimators=100, random_state=42, n_jobs=-1))\n",
    "    ]),\n",
    "    \"XGBoost\": Pipeline([\n",
    "        ('feature_selection', kbest),\n",
    "        ('model', XGBRegressor(objective='reg:squarederror', n_estimators=100, random_state=42, n_jobs=-1))\n",
    "    ]),\n",
    "    \"Hist Gradient Boosting\": Pipeline([\n",
    "        ('feature_selection', kbest),\n",
    "        ('model', HistGradientBoostingRegressor(max_iter=100, random_state=42))\n",
    "    ])\n",
    "}"
   ]
  },
  {
   "cell_type": "markdown",
   "id": "a9e651b4",
   "metadata": {},
   "source": [
    "## 10.3- Procédure d'évaluation"
   ]
  },
  {
   "cell_type": "code",
   "execution_count": 13,
   "id": "88629c7a",
   "metadata": {},
   "outputs": [],
   "source": [
    "# Entraînement et évaluation optimisés\n",
    "def evaluate_model(model, X_train, X_test, y_train, y_test):\n",
    "    model.fit(X_train, y_train)\n",
    "    y_pred = model.predict(X_test)\n",
    "    \n",
    "    mae = mean_absolute_error(y_test, y_pred)\n",
    "    rmse = np.sqrt(mean_squared_error(y_test, y_pred))\n",
    "    r2 = r2_score(y_test, y_pred)\n",
    "\n",
    "    return {\"MAE\": mae, \"RMSE\": rmse, \"R2\": r2}"
   ]
  },
  {
   "cell_type": "code",
   "execution_count": 14,
   "id": "8f85b947",
   "metadata": {},
   "outputs": [],
   "source": [
    "# Parallélisation de l'évaluation des modèles\n",
    "def evaluate_models(models, X_train, X_test, y_train, y_test):\n",
    "    results = Parallel(n_jobs=-1)(\n",
    "        delayed(evaluate_model)(model, X_train, X_test, y_train, y_test) \n",
    "        for model in models.values()\n",
    "    )\n",
    "    return dict(zip(models.keys(), results))"
   ]
  },
  {
   "cell_type": "code",
   "execution_count": 15,
   "id": "adffebf2",
   "metadata": {},
   "outputs": [
    {
     "name": "stdout",
     "output_type": "stream",
     "text": [
      "Final Results Summary:\n",
      "\n",
      "Random Forest:\n",
      "  MAE: 3081.2487\n",
      "  RMSE: 14284.9237\n",
      "  R2: 0.9769\n",
      "------------------------------\n",
      "\n",
      "\n",
      "XGBoost:\n",
      "  MAE: 45654.8268\n",
      "  RMSE: 60141.5902\n",
      "  R2: 0.5909\n",
      "------------------------------\n",
      "\n",
      "\n",
      "Hist Gradient Boosting:\n",
      "  MAE: 46706.6396\n",
      "  RMSE: 61497.6907\n",
      "  R2: 0.5722\n",
      "------------------------------\n",
      "\n",
      "\n"
     ]
    }
   ],
   "source": [
    "# Affichage final des résultats\n",
    "results = evaluate_models(models, X_train, X_test, y_train, y_test)\n",
    "\n",
    "print(\"Final Results Summary:\\n\")\n",
    "for model_name, metrics in results.items():\n",
    "    print(f\"{model_name}:\")\n",
    "    for metric, value in metrics.items():\n",
    "        print(f\"  {metric}: {value:.4f}\")\n",
    "    print(\"-\" * 30)\n",
    "    print(\"\\n\")"
   ]
  },
  {
   "cell_type": "markdown",
   "id": "4ce38f87",
   "metadata": {},
   "source": [
    "## 10.4- Choix du modèle final"
   ]
  },
  {
   "cell_type": "markdown",
   "id": "752ccba0",
   "metadata": {},
   "source": [
    "## 10.5- Importances des variables"
   ]
  },
  {
   "cell_type": "code",
   "execution_count": 22,
   "id": "53ba4d21-df57-40ca-bba5-c41519546393",
   "metadata": {},
   "outputs": [
    {
     "name": "stdout",
     "output_type": "stream",
     "text": [
      "                     Feature  Importance\n",
      "3        code_postal_encoded    0.472010\n",
      "1        Surface_reelle_bati    0.286096\n",
      "0            Surface_terrain    0.189706\n",
      "2  Nombre_pieces_principales    0.041083\n",
      "4          Type_local_Maison    0.011105\n"
     ]
    }
   ],
   "source": [
    "# Récupérer les features sélectionnés par SelectKBest\n",
    "selected_mask = best_rf.named_steps['feature_selection'].get_support()\n",
    "selected_features = X_train.columns[selected_mask]\n",
    "\n",
    "# Récupérer les importances du modèle\n",
    "importances = best_rf.named_steps['model'].feature_importances_\n",
    "\n",
    "# Créer un DataFrame clair\n",
    "feature_importance_df = pd.DataFrame({\n",
    "    'Feature': selected_features,\n",
    "    'Importance': importances\n",
    "}).sort_values(by=\"Importance\", ascending=False)\n",
    "\n",
    "print(feature_importance_df)\n"
   ]
  },
  {
   "cell_type": "code",
   "execution_count": 18,
   "id": "e80231f2",
   "metadata": {},
   "outputs": [
    {
     "data": {
      "text/html": [
       "<style>#sk-container-id-2 {color: black;background-color: white;}#sk-container-id-2 pre{padding: 0;}#sk-container-id-2 div.sk-toggleable {background-color: white;}#sk-container-id-2 label.sk-toggleable__label {cursor: pointer;display: block;width: 100%;margin-bottom: 0;padding: 0.3em;box-sizing: border-box;text-align: center;}#sk-container-id-2 label.sk-toggleable__label-arrow:before {content: \"▸\";float: left;margin-right: 0.25em;color: #696969;}#sk-container-id-2 label.sk-toggleable__label-arrow:hover:before {color: black;}#sk-container-id-2 div.sk-estimator:hover label.sk-toggleable__label-arrow:before {color: black;}#sk-container-id-2 div.sk-toggleable__content {max-height: 0;max-width: 0;overflow: hidden;text-align: left;background-color: #f0f8ff;}#sk-container-id-2 div.sk-toggleable__content pre {margin: 0.2em;color: black;border-radius: 0.25em;background-color: #f0f8ff;}#sk-container-id-2 input.sk-toggleable__control:checked~div.sk-toggleable__content {max-height: 200px;max-width: 100%;overflow: auto;}#sk-container-id-2 input.sk-toggleable__control:checked~label.sk-toggleable__label-arrow:before {content: \"▾\";}#sk-container-id-2 div.sk-estimator input.sk-toggleable__control:checked~label.sk-toggleable__label {background-color: #d4ebff;}#sk-container-id-2 div.sk-label input.sk-toggleable__control:checked~label.sk-toggleable__label {background-color: #d4ebff;}#sk-container-id-2 input.sk-hidden--visually {border: 0;clip: rect(1px 1px 1px 1px);clip: rect(1px, 1px, 1px, 1px);height: 1px;margin: -1px;overflow: hidden;padding: 0;position: absolute;width: 1px;}#sk-container-id-2 div.sk-estimator {font-family: monospace;background-color: #f0f8ff;border: 1px dotted black;border-radius: 0.25em;box-sizing: border-box;margin-bottom: 0.5em;}#sk-container-id-2 div.sk-estimator:hover {background-color: #d4ebff;}#sk-container-id-2 div.sk-parallel-item::after {content: \"\";width: 100%;border-bottom: 1px solid gray;flex-grow: 1;}#sk-container-id-2 div.sk-label:hover label.sk-toggleable__label {background-color: #d4ebff;}#sk-container-id-2 div.sk-serial::before {content: \"\";position: absolute;border-left: 1px solid gray;box-sizing: border-box;top: 0;bottom: 0;left: 50%;z-index: 0;}#sk-container-id-2 div.sk-serial {display: flex;flex-direction: column;align-items: center;background-color: white;padding-right: 0.2em;padding-left: 0.2em;position: relative;}#sk-container-id-2 div.sk-item {position: relative;z-index: 1;}#sk-container-id-2 div.sk-parallel {display: flex;align-items: stretch;justify-content: center;background-color: white;position: relative;}#sk-container-id-2 div.sk-item::before, #sk-container-id-2 div.sk-parallel-item::before {content: \"\";position: absolute;border-left: 1px solid gray;box-sizing: border-box;top: 0;bottom: 0;left: 50%;z-index: -1;}#sk-container-id-2 div.sk-parallel-item {display: flex;flex-direction: column;z-index: 1;position: relative;background-color: white;}#sk-container-id-2 div.sk-parallel-item:first-child::after {align-self: flex-end;width: 50%;}#sk-container-id-2 div.sk-parallel-item:last-child::after {align-self: flex-start;width: 50%;}#sk-container-id-2 div.sk-parallel-item:only-child::after {width: 0;}#sk-container-id-2 div.sk-dashed-wrapped {border: 1px dashed gray;margin: 0 0.4em 0.5em 0.4em;box-sizing: border-box;padding-bottom: 0.4em;background-color: white;}#sk-container-id-2 div.sk-label label {font-family: monospace;font-weight: bold;display: inline-block;line-height: 1.2em;}#sk-container-id-2 div.sk-label-container {text-align: center;}#sk-container-id-2 div.sk-container {/* jupyter's `normalize.less` sets `[hidden] { display: none; }` but bootstrap.min.css set `[hidden] { display: none !important; }` so we also need the `!important` here to be able to override the default hidden behavior on the sphinx rendered scikit-learn.org. See: https://github.com/scikit-learn/scikit-learn/issues/21755 */display: inline-block !important;position: relative;}#sk-container-id-2 div.sk-text-repr-fallback {display: none;}</style><div id=\"sk-container-id-2\" class=\"sk-top-container\"><div class=\"sk-text-repr-fallback\"><pre>Pipeline(steps=[(&#x27;feature_selection&#x27;,\n",
       "                 SelectKBest(k=5,\n",
       "                             score_func=&lt;function f_regression at 0x70882a4131a0&gt;)),\n",
       "                (&#x27;model&#x27;, RandomForestRegressor(n_jobs=-1, random_state=42))])</pre><b>In a Jupyter environment, please rerun this cell to show the HTML representation or trust the notebook. <br />On GitHub, the HTML representation is unable to render, please try loading this page with nbviewer.org.</b></div><div class=\"sk-container\" hidden><div class=\"sk-item sk-dashed-wrapped\"><div class=\"sk-label-container\"><div class=\"sk-label sk-toggleable\"><input class=\"sk-toggleable__control sk-hidden--visually\" id=\"sk-estimator-id-4\" type=\"checkbox\" ><label for=\"sk-estimator-id-4\" class=\"sk-toggleable__label sk-toggleable__label-arrow\">Pipeline</label><div class=\"sk-toggleable__content\"><pre>Pipeline(steps=[(&#x27;feature_selection&#x27;,\n",
       "                 SelectKBest(k=5,\n",
       "                             score_func=&lt;function f_regression at 0x70882a4131a0&gt;)),\n",
       "                (&#x27;model&#x27;, RandomForestRegressor(n_jobs=-1, random_state=42))])</pre></div></div></div><div class=\"sk-serial\"><div class=\"sk-item\"><div class=\"sk-estimator sk-toggleable\"><input class=\"sk-toggleable__control sk-hidden--visually\" id=\"sk-estimator-id-5\" type=\"checkbox\" ><label for=\"sk-estimator-id-5\" class=\"sk-toggleable__label sk-toggleable__label-arrow\">SelectKBest</label><div class=\"sk-toggleable__content\"><pre>SelectKBest(k=5, score_func=&lt;function f_regression at 0x70882a4131a0&gt;)</pre></div></div></div><div class=\"sk-item\"><div class=\"sk-estimator sk-toggleable\"><input class=\"sk-toggleable__control sk-hidden--visually\" id=\"sk-estimator-id-6\" type=\"checkbox\" ><label for=\"sk-estimator-id-6\" class=\"sk-toggleable__label sk-toggleable__label-arrow\">RandomForestRegressor</label><div class=\"sk-toggleable__content\"><pre>RandomForestRegressor(n_jobs=-1, random_state=42)</pre></div></div></div></div></div></div></div>"
      ],
      "text/plain": [
       "Pipeline(steps=[('feature_selection',\n",
       "                 SelectKBest(k=5,\n",
       "                             score_func=<function f_regression at 0x70882a4131a0>)),\n",
       "                ('model', RandomForestRegressor(n_jobs=-1, random_state=42))])"
      ]
     },
     "execution_count": 18,
     "metadata": {},
     "output_type": "execute_result"
    }
   ],
   "source": [
    "# Récupérer le modèle Random Forest (meilleur modèle)\n",
    "best_rf = models[\"Random Forest\"]\n",
    "# Ignorer les FutureWarnings\n",
    "warnings.simplefilter(action='ignore', category=FutureWarning)\n",
    "    \n",
    "# Entraîner le modèle Random Forest avant d'obtenir les importances\n",
    "best_rf.fit(X_train, y_train)"
   ]
  },
  {
   "cell_type": "code",
   "execution_count": 19,
   "id": "5f29b88a",
   "metadata": {},
   "outputs": [
    {
     "ename": "AttributeError",
     "evalue": "'Pipeline' object has no attribute 'feature_importances_'",
     "output_type": "error",
     "traceback": [
      "\u001b[0;31m---------------------------------------------------------------------------\u001b[0m",
      "\u001b[0;31mAttributeError\u001b[0m                            Traceback (most recent call last)",
      "Cell \u001b[0;32mIn[19], line 2\u001b[0m\n\u001b[1;32m      1\u001b[0m \u001b[38;5;66;03m# Extraire les importances des variables\u001b[39;00m\n\u001b[0;32m----> 2\u001b[0m importances \u001b[38;5;241m=\u001b[39m \u001b[43mbest_rf\u001b[49m\u001b[38;5;241;43m.\u001b[39;49m\u001b[43mfeature_importances_\u001b[49m\n\u001b[1;32m      4\u001b[0m \u001b[38;5;66;03m# Créer un DataFrame pour mieux afficher\u001b[39;00m\n\u001b[1;32m      5\u001b[0m feature_importance_df \u001b[38;5;241m=\u001b[39m pd\u001b[38;5;241m.\u001b[39mDataFrame({\n\u001b[1;32m      6\u001b[0m     \u001b[38;5;124m'\u001b[39m\u001b[38;5;124mFeature\u001b[39m\u001b[38;5;124m'\u001b[39m: X_train\u001b[38;5;241m.\u001b[39mcolumns,  \u001b[38;5;66;03m# Noms des variables\u001b[39;00m\n\u001b[1;32m      7\u001b[0m     \u001b[38;5;124m'\u001b[39m\u001b[38;5;124mImportance\u001b[39m\u001b[38;5;124m'\u001b[39m: importances   \u001b[38;5;66;03m# Importance associée\u001b[39;00m\n\u001b[1;32m      8\u001b[0m })\n",
      "\u001b[0;31mAttributeError\u001b[0m: 'Pipeline' object has no attribute 'feature_importances_'"
     ]
    }
   ],
   "source": [
    "# Extraire les importances des variables\n",
    "importances = best_rf.named_steps['model'].feature_importances_\n",
    "\n",
    "\n",
    "# Créer un DataFrame pour mieux afficher\n",
    "feature_importance_df = pd.DataFrame({\n",
    "    'Feature': X_train.columns,  # Noms des variables\n",
    "    'Importance': importances   # Importance associée\n",
    "})\n",
    "\n",
    "# Trier par importance décroissante\n",
    "feature_importance_df = feature_importance_df.sort_values(by='Importance', ascending=False)\n",
    "\n",
    "# Affichage des top features\n",
    "print(\"\\nTop 10 des variables les plus importantes pour Random Forest :\")\n",
    "print(feature_importance_df.head(10))\n",
    "\n",
    "# Affichage graphique\n",
    "plt.figure(figsize=(10, 6))\n",
    "plt.barh(feature_importance_df['Feature'], feature_importance_df['Importance'])\n",
    "plt.xlabel(\"Importance\")\n",
    "plt.title(\"Importances des Variables - Random Forest\")\n",
    "plt.gca().invert_yaxis()  # Pour afficher la plus importante en haut\n",
    "plt.tight_layout()\n",
    "plt.show()"
   ]
  },
  {
   "cell_type": "markdown",
   "id": "94cc2835",
   "metadata": {},
   "source": [
    "## 10.5- Explicabilité du modèle"
   ]
  },
  {
   "cell_type": "code",
   "execution_count": 2,
   "id": "82d61bfb-62c2-44c9-a084-044df1162670",
   "metadata": {},
   "outputs": [
    {
     "name": "stderr",
     "output_type": "stream",
     "text": [
      "IProgress not found. Please update jupyter and ipywidgets. See https://ipywidgets.readthedocs.io/en/stable/user_install.html\n"
     ]
    },
    {
     "ename": "NameError",
     "evalue": "name 'best_rf' is not defined",
     "output_type": "error",
     "traceback": [
      "\u001b[0;31m---------------------------------------------------------------------------\u001b[0m",
      "\u001b[0;31mNameError\u001b[0m                                 Traceback (most recent call last)",
      "Cell \u001b[0;32mIn[2], line 3\u001b[0m\n\u001b[1;32m      1\u001b[0m \u001b[38;5;66;03m#Explicabilité\u001b[39;00m\n\u001b[1;32m      2\u001b[0m \u001b[38;5;28;01mimport\u001b[39;00m\u001b[38;5;250m \u001b[39m\u001b[38;5;21;01mshap\u001b[39;00m\n\u001b[0;32m----> 3\u001b[0m explainer \u001b[38;5;241m=\u001b[39m shap\u001b[38;5;241m.\u001b[39mTreeExplainer(\u001b[43mbest_rf\u001b[49m)\n\u001b[1;32m      4\u001b[0m shap_values \u001b[38;5;241m=\u001b[39m explainer(X_test)\n",
      "\u001b[0;31mNameError\u001b[0m: name 'best_rf' is not defined"
     ]
    }
   ],
   "source": [
    "#Explicabilité\n",
    "import shap\n",
    "explainer = shap.TreeExplainer(best_rf)\n",
    "shap_values = explainer(X_test)"
   ]
  },
  {
   "cell_type": "code",
   "execution_count": null,
   "id": "eeb81e55-acf7-4c04-b5e4-f52211a0d1a3",
   "metadata": {},
   "outputs": [],
   "source": [
    "fig, ax = plt.subplots(figsize=(10, 6))\n",
    "shap.plots.waterfall(shap_values[0], max_display=15, show=False)\n",
    "st.pyplot(fig)"
   ]
  },
  {
   "cell_type": "code",
   "execution_count": null,
   "id": "3178c33d-2187-4c5c-bbe5-6a6a96c3fa61",
   "metadata": {},
   "outputs": [],
   "source": []
  },
  {
   "cell_type": "code",
   "execution_count": null,
   "id": "21a5a44c",
   "metadata": {},
   "outputs": [],
   "source": [
    "#Explicabilité\n",
    "import shap\n",
    "explainer = shap.Explainer(best_rf)\n",
    "shap_values = explainer(X_test)\n",
    "shap.plots.bar(shap_values)"
   ]
  },
  {
   "cell_type": "markdown",
   "id": "b0a3f90d",
   "metadata": {},
   "source": [
    "## 10.6- Analyse des Résultats :\n",
    "### Métriques utilisées :\n",
    "- MAE (Mean Absolute Error) : moyenne des erreurs absolues.\n",
    "\n",
    "- RMSE (Root Mean Squared Error) : racine carrée de la moyenne des carrés des erreurs — pénalise davantage les \n",
    "  grandes erreurs.\n",
    "\n",
    "- R² (coefficient de détermination) : mesure de la qualité de la prédiction (plus proche de 1 = meilleur).\n",
    "### Random Forest :\n",
    "-  MAE: 2667.6573\n",
    "\n",
    "-  RMSE: 13234.2886\n",
    "\n",
    "-  R2: 0.9802 \n",
    "\n",
    "Meilleur modèle sur tous les indicateurs. Faible erreur, forte capacité explicative.\n",
    "Indique une forte adéquation aux données.\n",
    "\n",
    "### XGBoost :\n",
    "-  MAE: 45024.7757\n",
    "\n",
    "-  RMSE: 59408.1866\n",
    "\n",
    "-  R2: 0.6008\n",
    "\n",
    "Performances très inférieures à celles de la forêt aléatoire. Erreurs plus importantes et explication plus faible de la variance.\n",
    "\n",
    "### Hist Gradient Boosting\n",
    "-  MAE: 46122.4539\n",
    "\n",
    "-  RMSE: 60829.5836\n",
    "\n",
    "-  R2: 0.5814\n",
    "\n",
    "Très similaire à XGBoost, mais légèrement pire."
   ]
  },
  {
   "cell_type": "markdown",
   "id": "909931ca",
   "metadata": {},
   "source": [
    "## Conclusion :\n",
    "- Le modèle Random Forest surperforme largement les deux autres avec une erreur moyenne très faible et un R² proche de 1. Cela indique une excellente capacité de prédiction.\n",
    "- Les modèles XGBoost et HistGradientBoosting montrent des performances nettement inférieures, avec des erreurs plus importantes et un pouvoir explicatif limité."
   ]
  },
  {
   "cell_type": "markdown",
   "id": "a52f0b82",
   "metadata": {},
   "source": [
    "## Enregistrement du modèle au format .pkl pour une application web Streamlit"
   ]
  },
  {
   "cell_type": "code",
   "execution_count": 16,
   "id": "ee9db0ca",
   "metadata": {},
   "outputs": [
    {
     "name": "stdout",
     "output_type": "stream",
     "text": [
      "Modèle entraîné et sauvegardé sous 'Model_DVF.pkl'\n"
     ]
    }
   ],
   "source": [
    "# Sauvegarde pour Streamlit\n",
    "import pickle\n",
    "with open(\"model2_DVF.pkl\", \"wb\") as f:\n",
    "    \n",
    "    pickle.dump(best_rf, f)\n",
    "    \n",
    "print(\"Modèle entraîné et sauvegardé sous 'Model_DVF.pkl'\")"
   ]
  },
  {
   "cell_type": "code",
   "execution_count": 17,
   "id": "3ec4246a",
   "metadata": {},
   "outputs": [
    {
     "data": {
      "text/plain": [
       "['/home/sacko/Documents/ProjetDVF/Scripts/model_DVF_compress.pkl']"
      ]
     },
     "execution_count": 17,
     "metadata": {},
     "output_type": "execute_result"
    }
   ],
   "source": [
    "import joblib\n",
    "\n",
    "# Sauvegarder le modèle avec compression\n",
    "joblib.dump(best_rf, '/home/sacko/Documents/ProjetDVF/Scripts/model_DVF_compress.pkl', compress=3)"
   ]
  },
  {
   "cell_type": "code",
   "execution_count": null,
   "id": "de340c44-80f6-4952-9b59-c65e7e3ccd9f",
   "metadata": {},
   "outputs": [],
   "source": []
  },
  {
   "cell_type": "code",
   "execution_count": null,
   "id": "0a758c33-f71d-499f-b3f1-fcc2d39993dc",
   "metadata": {},
   "outputs": [],
   "source": []
  }
 ],
 "metadata": {
  "colab": {
   "provenance": []
  },
  "kernelspec": {
   "display_name": "Python (Dvf_env_py311)",
   "language": "python",
   "name": "dvf_env_py311"
  },
  "language_info": {
   "codemirror_mode": {
    "name": "ipython",
    "version": 3
   },
   "file_extension": ".py",
   "mimetype": "text/x-python",
   "name": "python",
   "nbconvert_exporter": "python",
   "pygments_lexer": "ipython3",
   "version": "3.11.13"
  }
 },
 "nbformat": 4,
 "nbformat_minor": 5
}
