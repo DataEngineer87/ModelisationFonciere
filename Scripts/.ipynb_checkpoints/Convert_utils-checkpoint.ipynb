{
 "cells": [
  {
   "cell_type": "markdown",
   "id": "838fea8a-6a7c-4339-857b-10c19f2aff25",
   "metadata": {},
   "source": [
    "# Convertir le notebook Fonction_utils en script Python"
   ]
  },
  {
   "cell_type": "code",
   "execution_count": 2,
   "id": "94661515-efbc-447b-92a0-d89e5446f8a3",
   "metadata": {},
   "outputs": [
    {
     "ename": "FileNotFoundError",
     "evalue": "[Errno 2] No such file or directory: '/home/sacko/Documents/ProjetDVF/Données/Scripts/ConvUtils.ipynb'",
     "output_type": "error",
     "traceback": [
      "\u001b[0;31m---------------------------------------------------------------------------\u001b[0m",
      "\u001b[0;31mFileNotFoundError\u001b[0m                         Traceback (most recent call last)",
      "Cell \u001b[0;32mIn[2], line 20\u001b[0m\n\u001b[1;32m     17\u001b[0m         f\u001b[38;5;241m.\u001b[39mwrite(script)\n\u001b[1;32m     19\u001b[0m \u001b[38;5;66;03m# Exécuter la conversion\u001b[39;00m\n\u001b[0;32m---> 20\u001b[0m \u001b[43mconvert_notebook_to_script\u001b[49m\u001b[43m(\u001b[49m\u001b[43mnotebook_path\u001b[49m\u001b[43m,\u001b[49m\u001b[43m \u001b[49m\u001b[43mscript_path\u001b[49m\u001b[43m)\u001b[49m\n\u001b[1;32m     21\u001b[0m \u001b[38;5;28mprint\u001b[39m(\u001b[38;5;124mf\u001b[39m\u001b[38;5;124m\"\u001b[39m\u001b[38;5;124mLe notebook \u001b[39m\u001b[38;5;132;01m{\u001b[39;00mnotebook_path\u001b[38;5;132;01m}\u001b[39;00m\u001b[38;5;124m a été converti en script Python.\u001b[39m\u001b[38;5;124m\"\u001b[39m)\n",
      "Cell \u001b[0;32mIn[2], line 11\u001b[0m, in \u001b[0;36mconvert_notebook_to_script\u001b[0;34m(notebook_path, script_path)\u001b[0m\n\u001b[1;32m     10\u001b[0m \u001b[38;5;28;01mdef\u001b[39;00m\u001b[38;5;250m \u001b[39m\u001b[38;5;21mconvert_notebook_to_script\u001b[39m(notebook_path, script_path):\n\u001b[0;32m---> 11\u001b[0m     \u001b[38;5;28;01mwith\u001b[39;00m \u001b[38;5;28;43mopen\u001b[39;49m\u001b[43m(\u001b[49m\u001b[43mnotebook_path\u001b[49m\u001b[43m)\u001b[49m \u001b[38;5;28;01mas\u001b[39;00m f:\n\u001b[1;32m     12\u001b[0m         nb \u001b[38;5;241m=\u001b[39m nbformat\u001b[38;5;241m.\u001b[39mread(f, as_version\u001b[38;5;241m=\u001b[39m\u001b[38;5;241m4\u001b[39m)\n\u001b[1;32m     13\u001b[0m     exporter \u001b[38;5;241m=\u001b[39m PythonExporter()\n",
      "File \u001b[0;32m~/Documents/ProjetDVF/Dvf_env/lib/python3.12/site-packages/IPython/core/interactiveshell.py:284\u001b[0m, in \u001b[0;36m_modified_open\u001b[0;34m(file, *args, **kwargs)\u001b[0m\n\u001b[1;32m    277\u001b[0m \u001b[38;5;28;01mif\u001b[39;00m file \u001b[38;5;129;01min\u001b[39;00m {\u001b[38;5;241m0\u001b[39m, \u001b[38;5;241m1\u001b[39m, \u001b[38;5;241m2\u001b[39m}:\n\u001b[1;32m    278\u001b[0m     \u001b[38;5;28;01mraise\u001b[39;00m \u001b[38;5;167;01mValueError\u001b[39;00m(\n\u001b[1;32m    279\u001b[0m         \u001b[38;5;124mf\u001b[39m\u001b[38;5;124m\"\u001b[39m\u001b[38;5;124mIPython won\u001b[39m\u001b[38;5;124m'\u001b[39m\u001b[38;5;124mt let you open fd=\u001b[39m\u001b[38;5;132;01m{\u001b[39;00mfile\u001b[38;5;132;01m}\u001b[39;00m\u001b[38;5;124m by default \u001b[39m\u001b[38;5;124m\"\u001b[39m\n\u001b[1;32m    280\u001b[0m         \u001b[38;5;124m\"\u001b[39m\u001b[38;5;124mas it is likely to crash IPython. If you know what you are doing, \u001b[39m\u001b[38;5;124m\"\u001b[39m\n\u001b[1;32m    281\u001b[0m         \u001b[38;5;124m\"\u001b[39m\u001b[38;5;124myou can use builtins\u001b[39m\u001b[38;5;124m'\u001b[39m\u001b[38;5;124m open.\u001b[39m\u001b[38;5;124m\"\u001b[39m\n\u001b[1;32m    282\u001b[0m     )\n\u001b[0;32m--> 284\u001b[0m \u001b[38;5;28;01mreturn\u001b[39;00m \u001b[43mio_open\u001b[49m\u001b[43m(\u001b[49m\u001b[43mfile\u001b[49m\u001b[43m,\u001b[49m\u001b[43m \u001b[49m\u001b[38;5;241;43m*\u001b[39;49m\u001b[43margs\u001b[49m\u001b[43m,\u001b[49m\u001b[43m \u001b[49m\u001b[38;5;241;43m*\u001b[39;49m\u001b[38;5;241;43m*\u001b[39;49m\u001b[43mkwargs\u001b[49m\u001b[43m)\u001b[49m\n",
      "\u001b[0;31mFileNotFoundError\u001b[0m: [Errno 2] No such file or directory: '/home/sacko/Documents/ProjetDVF/Données/Scripts/ConvUtils.ipynb'"
     ]
    }
   ],
   "source": [
    "import nbformat\n",
    "from nbconvert import PythonExporter\n",
    "import os\n",
    "\n",
    "# Définition des chemins \n",
    "notebook_path = \"/home/sacko/Documents/ProjetDVF/Données/Scripts/ConvUtils.ipynb\"\n",
    "script_path = \"/home/sacko/Documents/ProjetDVF/Données/Scripts/ConvUtils.py\"\n",
    "\n",
    "# Fonction pour convertir le notebook en script Python\n",
    "def convert_notebook_to_script(notebook_path, script_path):\n",
    "    with open(notebook_path) as f:\n",
    "        nb = nbformat.read(f, as_version=4)\n",
    "    exporter = PythonExporter()\n",
    "    script, _ = exporter.from_notebook_node(nb)\n",
    "\n",
    "    with open(script_path, 'w') as f:\n",
    "        f.write(script)\n",
    "\n",
    "# Exécuter la conversion\n",
    "convert_notebook_to_script(notebook_path, script_path)\n",
    "print(f\"Le notebook {notebook_path} a été converti en script Python.\")"
   ]
  },
  {
   "cell_type": "code",
   "execution_count": null,
   "id": "52b03b56-13bc-4ff3-9185-e02f34a7701c",
   "metadata": {},
   "outputs": [],
   "source": []
  },
  {
   "cell_type": "code",
   "execution_count": null,
   "id": "6c56295f-e39b-472e-b33f-bfff6a50ec63",
   "metadata": {},
   "outputs": [],
   "source": []
  },
  {
   "cell_type": "code",
   "execution_count": null,
   "id": "12e94fe2-c25d-436d-8db4-42fa008b8114",
   "metadata": {},
   "outputs": [],
   "source": []
  },
  {
   "cell_type": "code",
   "execution_count": null,
   "id": "1799a52c-11dd-4ccd-88b2-d9a233597743",
   "metadata": {},
   "outputs": [],
   "source": []
  }
 ],
 "metadata": {
  "kernelspec": {
   "display_name": "Python (Dvf_env)",
   "language": "python",
   "name": "dvf_env"
  },
  "language_info": {
   "codemirror_mode": {
    "name": "ipython",
    "version": 3
   },
   "file_extension": ".py",
   "mimetype": "text/x-python",
   "name": "python",
   "nbconvert_exporter": "python",
   "pygments_lexer": "ipython3",
   "version": "3.12.3"
  }
 },
 "nbformat": 4,
 "nbformat_minor": 5
}
